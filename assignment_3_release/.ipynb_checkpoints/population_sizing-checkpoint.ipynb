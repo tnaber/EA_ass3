{
 "cells": [
  {
   "cell_type": "code",
   "execution_count": 6,
   "metadata": {},
   "outputs": [],
   "source": [
    "import subprocess\n",
    "import sys\n",
    "from pathlib import Path\n",
    "import matplotlib.pyplot as plt\n",
    "import numpy as np\n",
    "import os\n",
    "import math\n",
    "from src.MOEDA import MOEDA\n",
    "from src import variation\n"
   ]
  },
  {
   "cell_type": "code",
   "execution_count": 8,
   "metadata": {
    "pycharm": {
     "name": "#%%\n"
    }
   },
   "outputs": [
    {
     "ename": "IndentationError",
     "evalue": "unindent does not match any outer indentation level (<tokenize>, line 26)",
     "output_type": "error",
     "traceback": [
      "\u001b[0;36m  File \u001b[0;32m\"<tokenize>\"\u001b[0;36m, line \u001b[0;32m26\u001b[0m\n\u001b[0;31m    if max = None:\u001b[0m\n\u001b[0m    ^\u001b[0m\n\u001b[0;31mIndentationError\u001b[0m\u001b[0;31m:\u001b[0m unindent does not match any outer indentation level\n"
     ]
    }
   ],
   "source": [
    "def run_modea(N, L, population_size, elitism):\n",
    "\thypervolume_results = []\n",
    "\tfor i in range(N):\n",
    "\t\tEA = MOEDA(populationSize = population_size,\n",
    "\t\t\t\t   numberOfVariables = L,\n",
    "\t\t\t\t   numberOfEvaluations = 10**4,\n",
    "\t\t\t\t   fitnessFunction = 'knapsack',\n",
    "\t\t\t\t   selection=variation.selection, variation_model=variation.marginalProductModel, mutation=variation.mutation,\n",
    "\t\t\t\t   tournamentSize = 2, mutationProb = 'auto',\n",
    "\t\t\t\t   randomSeed = 30,\n",
    "\t\t\t\t   elitism=elitism)\n",
    "\t\tEA.evolve() # Run algorithm\n",
    "\t\thypervolume_results.append(EA.hyperVolumeByGeneration)\n",
    "\n",
    "\treturn np.average(np.array(hypervolume_results), axis=0)[-1] # Select last value as best?\n",
    "\n",
    "\n",
    "\n",
    "def find_opt_pop_size(N, L, step, elitismm, max):\n",
    "\tpopulation_size = 10\n",
    "\toverall_best = 0\n",
    "\toptimum_found = False\n",
    "\toptimal_pop = population_size\n",
    "\toptimums = []\n",
    "\n",
    "    if max = None:\n",
    "        # Found maximum population\n",
    "        while not optimum_found:\n",
    "            curr_best = run_modea(N, L, population_size, elitism) # Select last value as best?\n",
    "            optimums.append(curr_best)\n",
    "\n",
    "            print(population_size)\n",
    "            print(curr_best)\n",
    "            if curr_best > overall_best:\n",
    "                optimal_pop = population_size\n",
    "                overall_best = curr_best\n",
    "                population_size = population_size + step\n",
    "            elif curr_best < overall_best:\n",
    "                optimum_found = True\n",
    "                max = population_size\n",
    "                print(\"Upper population size found!\")\n",
    "\n",
    "\t# Do binary search\n",
    "\toverall_best = 0\n",
    "    a = max - step\n",
    "\tstep = int(math.floor(step / 2))\n",
    "\tc = max - step\n",
    "    b = max\n",
    "    \n",
    "\n",
    "\twhile step > 1:\n",
    "\t\tstep = int(math.floor(step / 2))\n",
    "\t\tcurr_best = run_modea(N, L, c, elitism)\n",
    "\t\tif curr_best > overall_best:\n",
    "\t\t\tpopulation_size += step\n",
    "            overall_best = curr_best\n",
    "\t\telse:\n",
    "\t\t\tpopulation_size -= step\n",
    "\n",
    "\treturn population_size"
   ]
  },
  {
   "cell_type": "code",
   "execution_count": 5,
   "metadata": {
    "pycharm": {
     "name": "#%%\n"
    }
   },
   "outputs": [
    {
     "name": "stderr",
     "output_type": "stream",
     "text": [
      "  2%|▏         | 18/1000 [00:00<00:05, 169.04it/s]"
     ]
    },
    {
     "name": "stdout",
     "output_type": "stream",
     "text": [
      "Running for elitism\n"
     ]
    },
    {
     "name": "stderr",
     "output_type": "stream",
     "text": [
      " 75%|███████▍  | 748/1000 [01:18<00:26,  9.49it/s]\n"
     ]
    },
    {
     "ename": "KeyboardInterrupt",
     "evalue": "",
     "output_type": "error",
     "traceback": [
      "\u001b[0;31m---------------------------------------------------------------------------\u001b[0m",
      "\u001b[0;31mKeyboardInterrupt\u001b[0m                         Traceback (most recent call last)",
      "\u001b[0;32m<ipython-input-5-22c4fdda32cb>\u001b[0m in \u001b[0;36m<module>\u001b[0;34m\u001b[0m\n\u001b[1;32m      5\u001b[0m \u001b[0mopt_pop_sizes\u001b[0m \u001b[0;34m=\u001b[0m \u001b[0;34m[\u001b[0m\u001b[0;34m]\u001b[0m\u001b[0;34m\u001b[0m\u001b[0;34m\u001b[0m\u001b[0m\n\u001b[1;32m      6\u001b[0m \u001b[0;32mfor\u001b[0m \u001b[0ml\u001b[0m \u001b[0;32min\u001b[0m \u001b[0mL\u001b[0m\u001b[0;34m:\u001b[0m\u001b[0;34m\u001b[0m\u001b[0;34m\u001b[0m\u001b[0m\n\u001b[0;32m----> 7\u001b[0;31m     \u001b[0mopt_pop_sizes\u001b[0m\u001b[0;34m.\u001b[0m\u001b[0mappend\u001b[0m\u001b[0;34m(\u001b[0m\u001b[0mfind_opt_pop_size\u001b[0m\u001b[0;34m(\u001b[0m\u001b[0mN\u001b[0m\u001b[0;34m,\u001b[0m \u001b[0ml\u001b[0m\u001b[0;34m,\u001b[0m \u001b[0;36m10\u001b[0m\u001b[0;34m,\u001b[0m \u001b[0;32mTrue\u001b[0m\u001b[0;34m)\u001b[0m\u001b[0;34m)\u001b[0m\u001b[0;34m\u001b[0m\u001b[0;34m\u001b[0m\u001b[0m\n\u001b[0m\u001b[1;32m      8\u001b[0m     \u001b[0mprint\u001b[0m\u001b[0;34m(\u001b[0m\u001b[0mopt_pop_sizes\u001b[0m\u001b[0;34m)\u001b[0m\u001b[0;34m\u001b[0m\u001b[0;34m\u001b[0m\u001b[0m\n\u001b[1;32m      9\u001b[0m \u001b[0;34m\u001b[0m\u001b[0m\n",
      "\u001b[0;32m<ipython-input-2-a9cd3eb63d03>\u001b[0m in \u001b[0;36mfind_opt_pop_size\u001b[0;34m(N, L, step, elitism)\u001b[0m\n\u001b[1;32m     26\u001b[0m         \u001b[0;31m# Found maximum population\u001b[0m\u001b[0;34m\u001b[0m\u001b[0;34m\u001b[0m\u001b[0;34m\u001b[0m\u001b[0m\n\u001b[1;32m     27\u001b[0m         \u001b[0;32mwhile\u001b[0m \u001b[0;32mnot\u001b[0m \u001b[0moptimum_found\u001b[0m\u001b[0;34m:\u001b[0m\u001b[0;34m\u001b[0m\u001b[0;34m\u001b[0m\u001b[0m\n\u001b[0;32m---> 28\u001b[0;31m                 \u001b[0mcurr_best\u001b[0m \u001b[0;34m=\u001b[0m \u001b[0mrun_modea\u001b[0m\u001b[0;34m(\u001b[0m\u001b[0mN\u001b[0m\u001b[0;34m,\u001b[0m \u001b[0mL\u001b[0m\u001b[0;34m,\u001b[0m \u001b[0mpopulation_size\u001b[0m\u001b[0;34m,\u001b[0m \u001b[0melitism\u001b[0m\u001b[0;34m)\u001b[0m \u001b[0;31m# Select last value as best?\u001b[0m\u001b[0;34m\u001b[0m\u001b[0;34m\u001b[0m\u001b[0m\n\u001b[0m\u001b[1;32m     29\u001b[0m                 \u001b[0moptimums\u001b[0m\u001b[0;34m.\u001b[0m\u001b[0mappend\u001b[0m\u001b[0;34m(\u001b[0m\u001b[0mcurr_best\u001b[0m\u001b[0;34m)\u001b[0m\u001b[0;34m\u001b[0m\u001b[0;34m\u001b[0m\u001b[0m\n\u001b[1;32m     30\u001b[0m \u001b[0;34m\u001b[0m\u001b[0m\n",
      "\u001b[0;32m<ipython-input-2-a9cd3eb63d03>\u001b[0m in \u001b[0;36mrun_modea\u001b[0;34m(N, L, population_size, elitism)\u001b[0m\n\u001b[1;32m     10\u001b[0m                                    \u001b[0mrandomSeed\u001b[0m \u001b[0;34m=\u001b[0m \u001b[0;36m30\u001b[0m\u001b[0;34m,\u001b[0m\u001b[0;34m\u001b[0m\u001b[0;34m\u001b[0m\u001b[0m\n\u001b[1;32m     11\u001b[0m \t\t\t\t   elitism=elitism)\n\u001b[0;32m---> 12\u001b[0;31m                 \u001b[0mEA\u001b[0m\u001b[0;34m.\u001b[0m\u001b[0mevolve\u001b[0m\u001b[0;34m(\u001b[0m\u001b[0;34m)\u001b[0m \u001b[0;31m# Run algorithm\u001b[0m\u001b[0;34m\u001b[0m\u001b[0;34m\u001b[0m\u001b[0m\n\u001b[0m\u001b[1;32m     13\u001b[0m                 \u001b[0mhypervolume_results\u001b[0m\u001b[0;34m.\u001b[0m\u001b[0mappend\u001b[0m\u001b[0;34m(\u001b[0m\u001b[0mEA\u001b[0m\u001b[0;34m.\u001b[0m\u001b[0mhyperVolumeByGeneration\u001b[0m\u001b[0;34m)\u001b[0m\u001b[0;34m\u001b[0m\u001b[0;34m\u001b[0m\u001b[0m\n\u001b[1;32m     14\u001b[0m \u001b[0;34m\u001b[0m\u001b[0m\n",
      "\u001b[0;32m~/Documents/Courses/EvolutionaryAlgorithms/Assignment 3/assignment_3_release/src/MOEDA.py\u001b[0m in \u001b[0;36mevolve\u001b[0;34m(self)\u001b[0m\n\u001b[1;32m    167\u001b[0m                 \u001b[0;31m# Updating the elitist archive with solutions from the non-dominated front\u001b[0m\u001b[0;34m\u001b[0m\u001b[0;34m\u001b[0m\u001b[0;34m\u001b[0m\u001b[0m\n\u001b[1;32m    168\u001b[0m                 \u001b[0;32mfor\u001b[0m \u001b[0msolution\u001b[0m \u001b[0;32min\u001b[0m \u001b[0mself\u001b[0m\u001b[0;34m.\u001b[0m\u001b[0mfronts\u001b[0m\u001b[0;34m[\u001b[0m\u001b[0mgen\u001b[0m\u001b[0;34m]\u001b[0m\u001b[0;34m[\u001b[0m\u001b[0;36m0\u001b[0m\u001b[0;34m]\u001b[0m\u001b[0;34m:\u001b[0m\u001b[0;34m\u001b[0m\u001b[0;34m\u001b[0m\u001b[0m\n\u001b[0;32m--> 169\u001b[0;31m                     \u001b[0mself\u001b[0m\u001b[0;34m.\u001b[0m\u001b[0mupdateElitistArchive\u001b[0m\u001b[0;34m(\u001b[0m\u001b[0msolution\u001b[0m\u001b[0;34m)\u001b[0m\u001b[0;34m\u001b[0m\u001b[0;34m\u001b[0m\u001b[0m\n\u001b[0m\u001b[1;32m    170\u001b[0m \u001b[0;34m\u001b[0m\u001b[0m\n\u001b[1;32m    171\u001b[0m                 \u001b[0;31m# calculate hypervolume of the elitist archive\u001b[0m\u001b[0;34m\u001b[0m\u001b[0;34m\u001b[0m\u001b[0;34m\u001b[0m\u001b[0m\n",
      "\u001b[0;32m~/Documents/Courses/EvolutionaryAlgorithms/Assignment 3/assignment_3_release/src/MOEDA.py\u001b[0m in \u001b[0;36mupdateElitistArchive\u001b[0;34m(self, solution)\u001b[0m\n\u001b[1;32m     77\u001b[0m \u001b[0;34m\u001b[0m\u001b[0m\n\u001b[1;32m     78\u001b[0m         \u001b[0;32mfor\u001b[0m \u001b[0melite\u001b[0m \u001b[0;32min\u001b[0m \u001b[0miterable_archive\u001b[0m\u001b[0;34m:\u001b[0m\u001b[0;34m\u001b[0m\u001b[0;34m\u001b[0m\u001b[0m\n\u001b[0;32m---> 79\u001b[0;31m             \u001b[0mres\u001b[0m \u001b[0;34m=\u001b[0m \u001b[0mdominates\u001b[0m\u001b[0;34m(\u001b[0m\u001b[0msolution\u001b[0m\u001b[0;34m.\u001b[0m\u001b[0mfitness\u001b[0m\u001b[0;34m,\u001b[0m \u001b[0melite\u001b[0m\u001b[0;34m.\u001b[0m\u001b[0mfitness\u001b[0m\u001b[0;34m)\u001b[0m\u001b[0;34m\u001b[0m\u001b[0;34m\u001b[0m\u001b[0m\n\u001b[0m\u001b[1;32m     80\u001b[0m             \u001b[0;32mif\u001b[0m \u001b[0mres\u001b[0m \u001b[0;34m==\u001b[0m \u001b[0;36m1\u001b[0m\u001b[0;34m:\u001b[0m \u001b[0;31m# Dominates\u001b[0m\u001b[0;34m\u001b[0m\u001b[0;34m\u001b[0m\u001b[0m\n\u001b[1;32m     81\u001b[0m                 \u001b[0mdominated_elites\u001b[0m\u001b[0;34m.\u001b[0m\u001b[0madd\u001b[0m\u001b[0;34m(\u001b[0m\u001b[0melite\u001b[0m\u001b[0;34m)\u001b[0m\u001b[0;34m\u001b[0m\u001b[0;34m\u001b[0m\u001b[0m\n",
      "\u001b[0;31mKeyboardInterrupt\u001b[0m: "
     ]
    }
   ],
   "source": [
    "L = [5, 10, 20]\n",
    "N = 5\n",
    "\n",
    "print(\"Running for elitism\")\n",
    "opt_pop_sizes = []\n",
    "for l in L:\n",
    "    opt_pop_sizes.append(find_opt_pop_size(N, l, 10, True, 2000))\n",
    "    print(opt_pop_sizes)\n",
    "\n",
    "np.save(\"data/optimal_pop_sizes_w_elitsm\", [L, opt_pop_sizes])"
   ]
  },
  {
   "cell_type": "code",
   "execution_count": null,
   "metadata": {
    "pycharm": {
     "name": "#%%\n"
    }
   },
   "outputs": [],
   "source": [
    "L = [5, 10, 20]\n",
    "N = 1\n",
    "\n",
    "print(\"Running for no elitism\")\n",
    "opt_pop_sizes = []\n",
    "for l in L:\n",
    "\topt_pop_sizes.append(find_opt_pop_size(N, l, 10, False))\n",
    "\n",
    "np.save(\"data/optimal_pop_sizes_wo_elitsm\", [L, opt_pop_sizes])\n",
    "\n",
    "# N = 5\n",
    "# L = [5, 10, 20] # number of (discrete) variables\n",
    "# population_size = 100\n",
    "# step_size = 20\n",
    "#\n",
    "#\n",
    "#\n",
    "#\n",
    "# \t# optimal_population_per_problem_size.append(hypervolume_results)\n",
    "#\n",
    "# #sizes of EA.hyperVolumeByGeneration and EA.numberOfEvaluationsByGeneration are equal\n",
    "# print('hypervolumes:', EA.hyperVolumeByGeneration) #print array of hypervolumes\n",
    "# print('#feval:', EA.numberOfEvaluationsByGeneration) #print array of #feval"
   ]
  },
  {
   "cell_type": "code",
   "execution_count": null,
   "metadata": {},
   "outputs": [],
   "source": [
    "print(np.load(\"data/optimal_pop_sizes_wo_elitsm.npy\"))"
   ]
  },
  {
   "cell_type": "code",
   "execution_count": null,
   "metadata": {},
   "outputs": [],
   "source": [
    "def binary_search(N, L, step, elitismm, max):\n",
    "\tpopulation_size = 10\n",
    "\toverall_best = 0\n",
    "\toptimum_found = False\n",
    "\toptimal_pop = population_size\n",
    "\toptimums = []\n",
    "\n",
    "    if max = None:\n",
    "        # Found maximum population\n",
    "        while not optimum_found:\n",
    "            curr_best = run_modea(N, L, population_size, elitism) # Select last value as best?\n",
    "            optimums.append(curr_best)\n",
    "\n",
    "            print(population_size)\n",
    "            print(curr_best)\n",
    "            if curr_best > overall_best:\n",
    "                optimal_pop = population_size\n",
    "                overall_best = curr_best\n",
    "                population_size = population_size + step\n",
    "            elif curr_best < overall_best:\n",
    "                optimum_found = True\n",
    "                max = population_size\n",
    "                print(\"Upper population size found!\")\n",
    "\n",
    "\t# Do binary search\n",
    "\toverall_best = 0\n",
    "\tstep = int(math.floor(max / 2))\n",
    "\tpopulation_size = max - step\n",
    "\n",
    "\twhile step > 1:\n",
    "\t\tstep = int(math.floor(step / 2))\n",
    "\t\tcurr_best = run_modea(N, L, population_size, elitism)\n",
    "\t\tif curr_best > overall_best:\n",
    "\t\t\tpopulation_size += step\n",
    "\t\telse:\n",
    "\t\t\tpopulation_size -= step\n",
    "\n",
    "\treturn population_size"
   ]
  }
 ],
 "metadata": {
  "kernelspec": {
   "display_name": "Python 3",
   "language": "python",
   "name": "python3"
  },
  "language_info": {
   "codemirror_mode": {
    "name": "ipython",
    "version": 3
   },
   "file_extension": ".py",
   "mimetype": "text/x-python",
   "name": "python",
   "nbconvert_exporter": "python",
   "pygments_lexer": "ipython3",
   "version": "3.8.5"
  }
 },
 "nbformat": 4,
 "nbformat_minor": 1
}
