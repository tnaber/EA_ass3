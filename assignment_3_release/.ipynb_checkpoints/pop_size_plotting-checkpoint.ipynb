{
 "cells": [
  {
   "cell_type": "code",
   "execution_count": 65,
   "metadata": {
    "collapsed": true
   },
   "outputs": [],
   "source": [
    "import subprocess\n",
    "import sys\n",
    "from pathlib import Path\n",
    "import matplotlib.pyplot as plt\n",
    "import numpy as np\n",
    "import os"
   ]
  },
  {
   "cell_type": "code",
   "execution_count": 92,
   "metadata": {
    "pycharm": {
     "name": "#%%\n"
    }
   },
   "outputs": [],
   "source": [
    "# domain = list(range(0, 1000))\n",
    "# print(domain)\n",
    "file_name = \"population_sizing_results_L_10\"\n",
    "data = np.load(\"data/\" + file_name + \".npy\")\n",
    "labels = [\"With elitism\", \"Without elitism\"]\n"
   ]
  },
  {
   "cell_type": "code",
   "execution_count": 97,
   "metadata": {
    "pycharm": {
     "name": "#%%\n"
    }
   },
   "outputs": [
    {
     "name": "stdout",
     "output_type": "stream",
     "text": [
      "[array([0.39972387, 0.40033793]), array([0.4011647 , 0.40049847])]\n",
      "[0.39978528 0.40056509]\n",
      "[0.40027653 0.40109808]\n",
      "[0.4000309  0.40083159]\n",
      "[array([0.29885376, 0.33042358]), array([0.31690226, 0.33542033])]\n",
      "[0.30201074 0.31875406]\n",
      "[0.3272666  0.33356852]\n",
      "[0.31463867 0.32616129]\n"
     ]
    },
    {
     "data": {
      "image/png": "[encoded data removed]",
      "text/plain": [
       "<Figure size 432x288 with 1 Axes>"
      ]
     },
     "metadata": {
      "needs_background": "light"
     },
     "output_type": "display_data"
    }
   ],
   "source": [
    "for i in range(len(data)):\n",
    "\tresults = [np.array(x) for x in np.array(data[i][1])[:,1]]\n",
    "\tprint(results)\n",
    "\taverage = np.average(results, axis=1)\n",
    "\n",
    "\tinterdecile_range_low = np.percentile(results, 10, axis=1)\n",
    "\tinterdecile_range_high = np.percentile(results, 90, axis=1)\n",
    "\n",
    "\tprint(interdecile_range_low)\n",
    "\tprint(interdecile_range_high)\n",
    "\tprint(average)\n",
    "\n",
    "\tdomain = np.array(data[i][1])[:,0]\n",
    "\n",
    "\tplt.plot(domain, average)\n",
    "\n",
    "\tplt.fill_between(,\n",
    "\t\t[0, 0],\n",
    "\t\t[1, 1],\n",
    "\t\talpha=0.3)\n",
    "\n",
    "plt.xlabel('Population size')\n",
    "plt.ylabel('Hypervolume')\n",
    "plt.legend(labels) # [(\"l = \" + x) for x in L]\n",
    "fig = plt.gcf()\n",
    "plt.show()"
   ]
  },
  {
   "cell_type": "code",
   "execution_count": 64,
   "metadata": {
    "pycharm": {
     "name": "#%%\n"
    }
   },
   "outputs": [],
   "source": [
    "fig.savefig('plots/' + file_name)"
   ]
  },
  {
   "cell_type": "code",
   "execution_count": null,
   "metadata": {
    "pycharm": {
     "name": "#%%\n"
    }
   },
   "outputs": [],
   "source": []
  }
 ],
 "metadata": {
  "kernelspec": {
   "display_name": "Python 3",
   "language": "python",
   "name": "python3"
  },
  "language_info": {
   "codemirror_mode": {
    "name": "ipython",
    "version": 3
   },
   "file_extension": ".py",
   "mimetype": "text/x-python",
   "name": "python",
   "nbconvert_exporter": "python",
   "pygments_lexer": "ipython3",
   "version": "3.6.9"
  }
 },
 "nbformat": 4,
 "nbformat_minor": 1
}
