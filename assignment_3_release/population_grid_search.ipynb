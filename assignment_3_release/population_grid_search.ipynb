{
 "cells": [
  {
   "cell_type": "code",
   "execution_count": 35,
   "metadata": {
    "collapsed": true
   },
   "outputs": [],
   "source": [
    "import subprocess\n",
    "import sys\n",
    "from pathlib import Path\n",
    "import matplotlib.pyplot as plt\n",
    "import numpy as np\n",
    "import os"
   ]
  },
  {
   "cell_type": "code",
   "execution_count": 45,
   "outputs": [
    {
     "name": "stderr",
     "output_type": "stream",
     "text": [
      "100%|█████████▉| 999/1000 [02:21<00:00,  7.08it/s]\n",
      "100%|█████████▉| 999/1000 [02:18<00:00,  7.23it/s]\n",
      "100%|█████████▉| 999/1000 [02:19<00:00,  7.14it/s]\n",
      "100%|█████████▉| 999/1000 [02:18<00:00,  7.21it/s]\n",
      "100%|█████████▉| 999/1000 [02:18<00:00,  7.21it/s]\n",
      "  2%|▏         | 11/500 [00:00<00:04, 103.27it/s]"
     ]
    },
    {
     "name": "stdout",
     "output_type": "stream",
     "text": [
      "5 > 10 : 0.28718585169097116\n"
     ]
    },
    {
     "name": "stderr",
     "output_type": "stream",
     "text": [
      "100%|█████████▉| 499/500 [01:50<00:00,  4.52it/s]\n",
      "100%|█████████▉| 499/500 [01:48<00:00,  4.59it/s]\n",
      "100%|█████████▉| 499/500 [01:50<00:00,  4.50it/s]\n",
      "100%|█████████▉| 499/500 [01:49<00:00,  4.57it/s]\n",
      "100%|█████████▉| 499/500 [01:51<00:00,  4.49it/s]\n",
      "  2%|▏         | 4/200 [00:00<00:04, 39.36it/s]"
     ]
    },
    {
     "name": "stdout",
     "output_type": "stream",
     "text": [
      "5 > 20 : 0.28718585169097116\n"
     ]
    },
    {
     "name": "stderr",
     "output_type": "stream",
     "text": [
      "100%|█████████▉| 199/200 [01:30<00:00,  2.20it/s]\n",
      "100%|█████████▉| 199/200 [01:30<00:00,  2.19it/s]\n",
      "100%|█████████▉| 199/200 [01:30<00:00,  2.21it/s]\n",
      "100%|█████████▉| 199/200 [01:30<00:00,  2.19it/s]\n",
      "100%|█████████▉| 199/200 [01:30<00:00,  2.19it/s]\n",
      "  2%|▏         | 2/100 [00:00<00:06, 15.77it/s]"
     ]
    },
    {
     "name": "stdout",
     "output_type": "stream",
     "text": [
      "5 > 50 : 0.28718585169097116\n"
     ]
    },
    {
     "name": "stderr",
     "output_type": "stream",
     "text": [
      " 99%|█████████▉| 99/100 [01:33<00:00,  1.06it/s]\n",
      " 99%|█████████▉| 99/100 [01:33<00:00,  1.06it/s]\n",
      " 99%|█████████▉| 99/100 [01:38<00:00,  1.01it/s]\n",
      " 99%|█████████▉| 99/100 [01:39<00:01,  1.00s/it]\n",
      " 99%|█████████▉| 99/100 [01:32<00:00,  1.08it/s]\n",
      "  0%|          | 0/50 [00:00<?, ?it/s]"
     ]
    },
    {
     "name": "stdout",
     "output_type": "stream",
     "text": [
      "5 > 100 : 0.28718585169097116\n"
     ]
    },
    {
     "name": "stderr",
     "output_type": "stream",
     "text": [
      " 98%|█████████▊| 49/50 [01:28<00:01,  1.80s/it]\n",
      " 98%|█████████▊| 49/50 [01:29<00:01,  1.82s/it]\n",
      " 98%|█████████▊| 49/50 [01:33<00:01,  1.90s/it]\n",
      " 98%|█████████▊| 49/50 [01:28<00:01,  1.80s/it]\n",
      " 98%|█████████▊| 49/50 [01:31<00:01,  1.87s/it]\n",
      "  0%|          | 0/20 [00:00<?, ?it/s]"
     ]
    },
    {
     "name": "stdout",
     "output_type": "stream",
     "text": [
      "5 > 200 : 0.28718585169097116\n"
     ]
    },
    {
     "name": "stderr",
     "output_type": "stream",
     "text": [
      " 95%|█████████▌| 19/20 [01:38<00:05,  5.19s/it]\n",
      " 95%|█████████▌| 19/20 [01:33<00:04,  4.90s/it]\n",
      " 95%|█████████▌| 19/20 [01:35<00:05,  5.03s/it]\n",
      " 95%|█████████▌| 19/20 [01:43<00:05,  5.46s/it]\n",
      " 95%|█████████▌| 19/20 [02:04<00:06,  6.57s/it]\n",
      "  0%|          | 0/10 [00:00<?, ?it/s]"
     ]
    },
    {
     "name": "stdout",
     "output_type": "stream",
     "text": [
      "5 > 500 : 0.28718585169097116\n"
     ]
    },
    {
     "name": "stderr",
     "output_type": "stream",
     "text": [
      " 90%|█████████ | 9/10 [02:07<00:14, 14.22s/it]\n",
      " 90%|█████████ | 9/10 [02:14<00:14, 14.98s/it]\n",
      " 90%|█████████ | 9/10 [02:18<00:15, 15.36s/it]\n",
      " 90%|█████████ | 9/10 [02:16<00:15, 15.19s/it]\n",
      " 90%|█████████ | 9/10 [02:19<00:15, 15.50s/it]\n",
      "  3%|▎         | 33/1000 [00:00<00:02, 323.96it/s]"
     ]
    },
    {
     "name": "stdout",
     "output_type": "stream",
     "text": [
      "5 > 1000 : 0.28718585169097116\n"
     ]
    },
    {
     "name": "stderr",
     "output_type": "stream",
     "text": [
      "100%|█████████▉| 999/1000 [00:03<00:00, 278.81it/s]\n",
      "100%|█████████▉| 999/1000 [00:03<00:00, 251.60it/s]\n",
      "100%|█████████▉| 999/1000 [00:03<00:00, 255.33it/s]\n",
      "100%|█████████▉| 999/1000 [00:04<00:00, 245.01it/s]\n",
      "100%|█████████▉| 999/1000 [00:03<00:00, 253.71it/s]\n",
      "  3%|▎         | 15/500 [00:00<00:03, 147.15it/s]"
     ]
    },
    {
     "name": "stdout",
     "output_type": "stream",
     "text": [
      "5 > 10 : 0.2524170027924294\n"
     ]
    },
    {
     "name": "stderr",
     "output_type": "stream",
     "text": [
      "100%|█████████▉| 499/500 [00:03<00:00, 127.08it/s]\n",
      "100%|█████████▉| 499/500 [00:03<00:00, 130.08it/s]\n",
      "100%|█████████▉| 499/500 [00:04<00:00, 124.29it/s]\n",
      "100%|█████████▉| 499/500 [00:03<00:00, 128.78it/s]\n",
      "100%|█████████▉| 499/500 [00:03<00:00, 132.00it/s]\n",
      "  2%|▎         | 5/200 [00:00<00:04, 48.60it/s]"
     ]
    },
    {
     "name": "stdout",
     "output_type": "stream",
     "text": [
      "5 > 20 : 0.27510394042817254\n"
     ]
    },
    {
     "name": "stderr",
     "output_type": "stream",
     "text": [
      "100%|█████████▉| 199/200 [00:04<00:00, 43.91it/s]\n",
      "100%|█████████▉| 199/200 [00:04<00:00, 43.73it/s]\n",
      "100%|█████████▉| 199/200 [00:04<00:00, 45.32it/s]\n",
      "100%|█████████▉| 199/200 [00:04<00:00, 42.76it/s]\n",
      "100%|█████████▉| 199/200 [00:04<00:00, 46.08it/s]\n",
      "  2%|▏         | 2/100 [00:00<00:05, 16.49it/s]"
     ]
    },
    {
     "name": "stdout",
     "output_type": "stream",
     "text": [
      "5 > 50 : 0.27731926776295374\n"
     ]
    },
    {
     "name": "stderr",
     "output_type": "stream",
     "text": [
      " 99%|█████████▉| 99/100 [00:06<00:00, 14.56it/s]\n",
      " 99%|█████████▉| 99/100 [00:06<00:00, 15.42it/s]\n",
      " 99%|█████████▉| 99/100 [00:06<00:00, 15.14it/s]\n",
      " 99%|█████████▉| 99/100 [00:06<00:00, 14.91it/s]\n",
      " 99%|█████████▉| 99/100 [00:06<00:00, 15.16it/s]\n",
      "  0%|          | 0/50 [00:00<?, ?it/s]"
     ]
    },
    {
     "name": "stdout",
     "output_type": "stream",
     "text": [
      "5 > 100 : 0.2869996897300652\n"
     ]
    },
    {
     "name": "stderr",
     "output_type": "stream",
     "text": [
      " 98%|█████████▊| 49/50 [00:10<00:00,  4.80it/s]\n",
      " 98%|█████████▊| 49/50 [00:10<00:00,  4.69it/s]\n",
      " 98%|█████████▊| 49/50 [00:10<00:00,  4.64it/s]\n",
      " 98%|█████████▊| 49/50 [00:09<00:00,  4.98it/s]\n",
      " 98%|█████████▊| 49/50 [00:10<00:00,  4.70it/s]\n",
      "  0%|          | 0/20 [00:00<?, ?it/s]"
     ]
    },
    {
     "name": "stdout",
     "output_type": "stream",
     "text": [
      "5 > 200 : 0.28718585169097116\n"
     ]
    },
    {
     "name": "stderr",
     "output_type": "stream",
     "text": [
      " 95%|█████████▌| 19/20 [00:22<00:01,  1.17s/it]\n",
      " 95%|█████████▌| 19/20 [00:21<00:01,  1.13s/it]\n",
      " 95%|█████████▌| 19/20 [00:21<00:01,  1.15s/it]\n",
      " 95%|█████████▌| 19/20 [00:21<00:01,  1.13s/it]\n",
      " 95%|█████████▌| 19/20 [00:21<00:01,  1.11s/it]\n",
      "  0%|          | 0/10 [00:00<?, ?it/s]"
     ]
    },
    {
     "name": "stdout",
     "output_type": "stream",
     "text": [
      "5 > 500 : 0.28718585169097116\n"
     ]
    },
    {
     "name": "stderr",
     "output_type": "stream",
     "text": [
      " 90%|█████████ | 9/10 [00:38<00:04,  4.30s/it]\n",
      " 90%|█████████ | 9/10 [00:31<00:03,  3.47s/it]\n",
      " 90%|█████████ | 9/10 [00:30<00:03,  3.34s/it]\n",
      " 90%|█████████ | 9/10 [00:29<00:03,  3.28s/it]\n",
      " 90%|█████████ | 9/10 [00:28<00:03,  3.21s/it]"
     ]
    },
    {
     "name": "stdout",
     "output_type": "stream",
     "text": [
      "5 > 1000 : 0.28718585169097116\n",
      "hypervolumes: [0.28718585169097116, 0.28718585169097116, 0.28718585169097116, 0.28718585169097116, 0.28718585169097116, 0.28718585169097116, 0.28718585169097116, 0.28718585169097116, 0.28718585169097116]\n",
      "#feval: [2000, 3000, 4000, 5000, 6000, 7000, 8000, 9000, 10000]\n"
     ]
    },
    {
     "name": "stderr",
     "output_type": "stream",
     "text": [
      "\n",
      "/usr/local/lib/python3.8/dist-packages/numpy/core/_asarray.py:136: VisibleDeprecationWarning: Creating an ndarray from ragged nested sequences (which is a list-or-tuple of lists-or-tuples-or ndarrays with different lengths or shapes) is deprecated. If you meant to do this, you must specify 'dtype=object' when creating the ndarray\n",
      "  return array(a, dtype, copy=False, order=order, subok=True)\n"
     ]
    }
   ],
   "source": [
    "from src.MOEDA import MOEDA\n",
    "from src import variation\n",
    "\n",
    "N = 5\n",
    "\n",
    "L = [5] # number of (discrete) variables\n",
    "elitsmSettings = [True, False]\n",
    "populationSizes = [10, 20, 50, 100, 200, 500, 1000]\n",
    "\n",
    "for l in L:\n",
    "    pop_size_results_per_elitism_setting = []\n",
    "    for elitsm in elitsmSettings:\n",
    "        pop_size_results = []\n",
    "        for populationSize in populationSizes:\n",
    "            hypervolume_results = []\n",
    "            for i in range(N):\n",
    "                EA = MOEDA(populationSize = populationSize,\n",
    "                        numberOfVariables = l,\n",
    "                        numberOfEvaluations = 10**4,\n",
    "                        fitnessFunction = 'knapsack',\n",
    "                        selection=variation.selection, variation_model=variation.marginalProductModel, mutation=variation.mutation,\n",
    "                        tournamentSize = 2, mutationProb = 'auto',\n",
    "                        randomSeed = 30,\n",
    "                        elitism=elitsm)\n",
    "                EA.evolve() # Run algorithm\n",
    "                hypervolume_results.append(EA.hyperVolumeByGeneration)\n",
    "\n",
    "            result = np.average(np.array(hypervolume_results), axis=0)[-1]\n",
    "            pop_size_results.append([populationSize, result])\n",
    "            print(l, \">\", populationSize, \":\", result)\n",
    "        pop_size_results_per_elitism_setting.append([elitsm, pop_size_results])\n",
    "    np.save(\"data/population_sizing_results_L_\" + str(l), pop_size_results_per_elitism_setting)\n",
    "\n",
    "#sizes of EA.hyperVolumeByGeneration and EA.numberOfEvaluationsByGeneration are equal\n",
    "print('hypervolumes:', EA.hyperVolumeByGeneration) #print array of hypervolumes\n",
    "print('#feval:', EA.numberOfEvaluationsByGeneration) #print array of #feval"
   ],
   "metadata": {
    "collapsed": false,
    "pycharm": {
     "name": "#%%\n"
    }
   }
  },
  {
   "cell_type": "code",
   "execution_count": 46,
   "outputs": [
    {
     "name": "stdout",
     "output_type": "stream",
     "text": [
      "[[True\n",
      "  list([[10, 0.28718585169097116], [20, 0.28718585169097116], [50, 0.28718585169097116], [100, 0.28718585169097116], [200, 0.28718585169097116], [500, 0.28718585169097116], [1000, 0.28718585169097116]])]\n",
      " [False\n",
      "  list([[10, 0.2524170027924294], [20, 0.27510394042817254], [50, 0.27731926776295374], [100, 0.2869996897300652], [200, 0.28718585169097116], [500, 0.28718585169097116], [1000, 0.28718585169097116]])]]\n"
     ]
    }
   ],
   "source": [
    "# L = 5: w=50/0.28718585169097116 wo=150\n",
    "\n",
    "test = np.load('data/population_sizing_results_L_5.npy', allow_pickle=True)\n",
    "print(test)"
   ],
   "metadata": {
    "collapsed": false,
    "pycharm": {
     "name": "#%%\n"
    }
   }
  },
  {
   "cell_type": "code",
   "execution_count": 37,
   "outputs": [],
   "source": [],
   "metadata": {
    "collapsed": false,
    "pycharm": {
     "name": "#%%\n"
    }
   }
  }
 ],
 "metadata": {
  "kernelspec": {
   "display_name": "Python 3",
   "language": "python",
   "name": "python3"
  },
  "language_info": {
   "codemirror_mode": {
    "name": "ipython",
    "version": 2
   },
   "file_extension": ".py",
   "mimetype": "text/x-python",
   "name": "python",
   "nbconvert_exporter": "python",
   "pygments_lexer": "ipython2",
   "version": "2.7.6"
  }
 },
 "nbformat": 4,
 "nbformat_minor": 0
}