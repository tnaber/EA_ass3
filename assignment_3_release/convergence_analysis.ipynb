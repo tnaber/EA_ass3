{
 "cells": [
  {
   "cell_type": "code",
   "execution_count": 10,
   "metadata": {
    "pycharm": {
     "name": "#%%\n"
    }
   },
   "outputs": [],
   "source": [
    "import subprocess\n",
    "import sys\n",
    "from pathlib import Path\n",
    "import matplotlib.pyplot as plt\n",
    "import numpy as np\n",
    "import os"
   ]
  },
  {
   "cell_type": "code",
   "execution_count": null,
   "metadata": {
    "pycharm": {
     "is_executing": true,
     "name": "#%%\n"
    }
   },
   "outputs": [
    {
     "name": "stderr",
     "output_type": "stream",
     "text": [
      "100%|█████████▉| 199/200 [00:56<00:00,  3.53it/s]\n",
      "100%|█████████▉| 199/200 [00:46<00:00,  4.31it/s]\n",
      "100%|█████████▉| 199/200 [01:00<00:00,  3.27it/s]\n",
      " 81%|████████  | 162/200 [00:39<00:17,  2.18it/s]"
     ]
    }
   ],
   "source": [
    "from src.MOEDA import MOEDA\n",
    "from src import variation\n",
    "\n",
    "N = 5\n",
    "\n",
    "# L = [5, 10, 20, 15, 30, 60] # number of (discrete) variables\n",
    "L = [15, 30, 60] # number of (discrete) variables\n",
    "elitsmSettings = [True]\n",
    "# populationSizes = [\n",
    "# \t[50, 50, 50, 50, 50, 50],\n",
    "# \t[200, 500, 500, 500, 500, 500]\n",
    "# ]\n",
    "populationSizes = [\n",
    "\t[50, 50, 50]\n",
    "]\n",
    "\n",
    "for i, l in enumerate(L):\n",
    "\thypervolume_results_per_setting = []\n",
    "\tfor j, elitsm in enumerate(elitsmSettings):\n",
    "\t\thypervolume_results = []\n",
    "\t\tfor n in range(N):\n",
    "\t\t\tpopulationSize = populationSizes[j][i]\n",
    "\t\t\tEA = MOEDA(populationSize = populationSize,\n",
    "\t\t\t\t\tnumberOfVariables = l,\n",
    "\t\t\t\t\tnumberOfEvaluations = 10**4,\n",
    "\t\t\t\t\tfitnessFunction = 'knapsack',\n",
    "\t\t\t\t\tselection=variation.selection, variation_model=variation.marginalProductModel, mutation=variation.mutation,\n",
    "\t\t\t\t\ttournamentSize = 2, mutationProb = 'auto',\n",
    "\t\t\t\t\trandomSeed = 30,\n",
    "\t\t\t\t\telitism=elitsm)\n",
    "\t\t\tEA.evolve() # Run algorithm\n",
    "\t\t\thypervolume_results.append(EA.hyperVolumeByGeneration)\n",
    "\t\thypervolume_results_per_setting.append(hypervolume_results)\n",
    "\tnp.save(('data/hypervolume_results_L_' + str(l) + '.npy'), hypervolume_results_per_setting)\n",
    "\n",
    "#sizes of EA.hyperVolumeByGeneration and EA.numberOfEvaluationsByGeneration are equal\n",
    "print('hypervolumes:', EA.hyperVolumeByGeneration) #print array of hypervolumes\n",
    "print('#feval:', EA.numberOfEvaluationsByGeneration) #print array of #feval"
   ]
  },
  {
   "cell_type": "code",
   "execution_count": null,
   "metadata": {
    "pycharm": {
     "is_executing": true,
     "name": "#%%\n"
    }
   },
   "outputs": [],
   "source": [
    "domain = EA.numberOfEvaluationsByGeneration\n",
    "for i in range(len(hypervolume_results_per_setting)):\n",
    "\tres = hypervolume_results_per_setting[i]\n",
    "\tinterdecile_range_low = np.percentile(res, 10, axis=0)\n",
    "\tinterdecile_range_high = np.percentile(res, 90, axis=0)\n",
    "\n",
    "\taverage = np.average(res, axis=0)\n",
    "\n",
    "\tplt.plot(domain, average)\n",
    "\tplt.fill_between(domain,\n",
    "\t\tinterdecile_range_low,\n",
    "\t\tinterdecile_range_high,\n",
    "\t\t\t\t\talpha=0.3)\n",
    "plt.legend(L) # [(\"l = \" + x) for x in L]\n",
    "plt.show()"
   ]
  }
 ],
 "metadata": {
  "kernelspec": {
   "display_name": "Python 3",
   "language": "python",
   "name": "python3"
  }
 },
 "nbformat": 4,
 "nbformat_minor": 1
}