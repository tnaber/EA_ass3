{
 "cells": [
  {
   "cell_type": "code",
   "execution_count": 8,
   "outputs": [],
   "source": [
    "import subprocess\n",
    "import sys\n",
    "from pathlib import Path\n",
    "import matplotlib.pyplot as plt\n",
    "import numpy as np\n",
    "import os"
   ],
   "metadata": {
    "collapsed": false,
    "pycharm": {
     "name": "#%%\n"
    }
   }
  },
  {
   "cell_type": "code",
   "execution_count": 9,
   "outputs": [
    {
     "name": "stderr",
     "output_type": "stream",
     "text": [
      " 56%|█████▋    | 113/200 [00:22<00:17,  5.10it/s]\n"
     ]
    },
    {
     "ename": "KeyboardInterrupt",
     "evalue": "",
     "output_type": "error",
     "traceback": [
      "\u001B[0;31m---------------------------------------------------------------------------\u001B[0m",
      "\u001B[0;31mKeyboardInterrupt\u001B[0m                         Traceback (most recent call last)",
      "\u001B[0;32m<ipython-input-9-1422b88e2731>\u001B[0m in \u001B[0;36m<module>\u001B[0;34m\u001B[0m\n\u001B[1;32m     29\u001B[0m                                         \u001B[0mrandomSeed\u001B[0m \u001B[0;34m=\u001B[0m \u001B[0;36m30\u001B[0m\u001B[0;34m,\u001B[0m\u001B[0;34m\u001B[0m\u001B[0;34m\u001B[0m\u001B[0m\n\u001B[1;32m     30\u001B[0m \t\t\t\t\telitism=elitsm)\n\u001B[0;32m---> 31\u001B[0;31m                         \u001B[0mEA\u001B[0m\u001B[0;34m.\u001B[0m\u001B[0mevolve\u001B[0m\u001B[0;34m(\u001B[0m\u001B[0;34m)\u001B[0m \u001B[0;31m# Run algorithm\u001B[0m\u001B[0;34m\u001B[0m\u001B[0;34m\u001B[0m\u001B[0m\n\u001B[0m\u001B[1;32m     32\u001B[0m                         \u001B[0mhypervolume_results\u001B[0m\u001B[0;34m.\u001B[0m\u001B[0mappend\u001B[0m\u001B[0;34m(\u001B[0m\u001B[0mEA\u001B[0m\u001B[0;34m.\u001B[0m\u001B[0mhyperVolumeByGeneration\u001B[0m\u001B[0;34m)\u001B[0m\u001B[0;34m\u001B[0m\u001B[0;34m\u001B[0m\u001B[0m\n\u001B[1;32m     33\u001B[0m                 \u001B[0mhypervolume_results_per_setting\u001B[0m\u001B[0;34m.\u001B[0m\u001B[0mappend\u001B[0m\u001B[0;34m(\u001B[0m\u001B[0mhypervolume_results\u001B[0m\u001B[0;34m)\u001B[0m\u001B[0;34m\u001B[0m\u001B[0;34m\u001B[0m\u001B[0m\n",
      "\u001B[0;32m~/Documents/Courses/EvolutionaryAlgorithms/Assignment 3/assignment_3_release/src/MOEDA.py\u001B[0m in \u001B[0;36mevolve\u001B[0;34m(self)\u001B[0m\n\u001B[1;32m    164\u001B[0m                 \u001B[0;31m# Updating the elitist archive with solutions from the non-dominated front\u001B[0m\u001B[0;34m\u001B[0m\u001B[0;34m\u001B[0m\u001B[0;34m\u001B[0m\u001B[0m\n\u001B[1;32m    165\u001B[0m                 \u001B[0;32mfor\u001B[0m \u001B[0msolution\u001B[0m \u001B[0;32min\u001B[0m \u001B[0mself\u001B[0m\u001B[0;34m.\u001B[0m\u001B[0mfronts\u001B[0m\u001B[0;34m[\u001B[0m\u001B[0mgen\u001B[0m\u001B[0;34m]\u001B[0m\u001B[0;34m[\u001B[0m\u001B[0;36m0\u001B[0m\u001B[0;34m]\u001B[0m\u001B[0;34m:\u001B[0m\u001B[0;34m\u001B[0m\u001B[0;34m\u001B[0m\u001B[0m\n\u001B[0;32m--> 166\u001B[0;31m                     \u001B[0mself\u001B[0m\u001B[0;34m.\u001B[0m\u001B[0mupdateElitistArchive\u001B[0m\u001B[0;34m(\u001B[0m\u001B[0msolution\u001B[0m\u001B[0;34m)\u001B[0m\u001B[0;34m\u001B[0m\u001B[0;34m\u001B[0m\u001B[0m\n\u001B[0m\u001B[1;32m    167\u001B[0m \u001B[0;34m\u001B[0m\u001B[0m\n\u001B[1;32m    168\u001B[0m                 \u001B[0;31m# calculate hypervolume of the elitist archive\u001B[0m\u001B[0;34m\u001B[0m\u001B[0;34m\u001B[0m\u001B[0;34m\u001B[0m\u001B[0m\n",
      "\u001B[0;32m~/Documents/Courses/EvolutionaryAlgorithms/Assignment 3/assignment_3_release/src/MOEDA.py\u001B[0m in \u001B[0;36mupdateElitistArchive\u001B[0;34m(self, solution)\u001B[0m\n\u001B[1;32m     74\u001B[0m \u001B[0;34m\u001B[0m\u001B[0m\n\u001B[1;32m     75\u001B[0m         \u001B[0;32mfor\u001B[0m \u001B[0melite\u001B[0m \u001B[0;32min\u001B[0m \u001B[0miterable_archive\u001B[0m\u001B[0;34m:\u001B[0m\u001B[0;34m\u001B[0m\u001B[0;34m\u001B[0m\u001B[0m\n\u001B[0;32m---> 76\u001B[0;31m             \u001B[0mres\u001B[0m \u001B[0;34m=\u001B[0m \u001B[0mdominates\u001B[0m\u001B[0;34m(\u001B[0m\u001B[0msolution\u001B[0m\u001B[0;34m.\u001B[0m\u001B[0mfitness\u001B[0m\u001B[0;34m,\u001B[0m \u001B[0melite\u001B[0m\u001B[0;34m.\u001B[0m\u001B[0mfitness\u001B[0m\u001B[0;34m)\u001B[0m\u001B[0;34m\u001B[0m\u001B[0;34m\u001B[0m\u001B[0m\n\u001B[0m\u001B[1;32m     77\u001B[0m             \u001B[0;32mif\u001B[0m \u001B[0mres\u001B[0m \u001B[0;34m==\u001B[0m \u001B[0;36m1\u001B[0m\u001B[0;34m:\u001B[0m \u001B[0;31m# Dominates\u001B[0m\u001B[0;34m\u001B[0m\u001B[0;34m\u001B[0m\u001B[0m\n\u001B[1;32m     78\u001B[0m                 \u001B[0mdominated_elites\u001B[0m\u001B[0;34m.\u001B[0m\u001B[0madd\u001B[0m\u001B[0;34m(\u001B[0m\u001B[0melite\u001B[0m\u001B[0;34m)\u001B[0m\u001B[0;34m\u001B[0m\u001B[0;34m\u001B[0m\u001B[0m\n",
      "\u001B[0;31mKeyboardInterrupt\u001B[0m: "
     ]
    }
   ],
   "source": [
    "from src.MOEDA import MOEDA\n",
    "from src import variation\n",
    "\n",
    "N = 5\n",
    "\n",
    "# L = [5, 10, 20, 15, 30, 60] # number of (discrete) variables\n",
    "L = [15, 30, 60] # number of (discrete) variables\n",
    "elitsmSettings = [True]\n",
    "# populationSizes = [\n",
    "# \t[50, 50, 50, 50, 50, 50],\n",
    "# \t[200, 500, 500, 500, 500, 500]\n",
    "# ]\n",
    "populationSizes = [\n",
    "\t[50, 50, 50]\n",
    "]\n",
    "\n",
    "for i, l in enumerate(L):\n",
    "\thypervolume_results_per_setting = []\n",
    "\tfor j, elitsm in enumerate(elitsmSettings):\n",
    "\t\thypervolume_results = []\n",
    "\t\tfor i in range(N):\n",
    "\t\t\tpopulationSize = populationSizes[j][i]\n",
    "\t\t\tEA = MOEDA(populationSize = populationSize,\n",
    "\t\t\t\t\tnumberOfVariables = l,\n",
    "\t\t\t\t\tnumberOfEvaluations = 10**4,\n",
    "\t\t\t\t\tfitnessFunction = 'knapsack',\n",
    "\t\t\t\t\tselection=variation.selection, variation_model=variation.marginalProductModel, mutation=variation.mutation,\n",
    "\t\t\t\t\ttournamentSize = 2, mutationProb = 'auto',\n",
    "\t\t\t\t\trandomSeed = 30,\n",
    "\t\t\t\t\telitism=elitsm)\n",
    "\t\t\tEA.evolve() # Run algorithm\n",
    "\t\t\thypervolume_results.append(EA.hyperVolumeByGeneration)\n",
    "\t\thypervolume_results_per_setting.append(hypervolume_results)\n",
    "\tnp.save(('data/hypervolume_results_L_' + str(l) + '.npy'), hypervolume_results_per_setting)\n",
    "\n",
    "#sizes of EA.hyperVolumeByGeneration and EA.numberOfEvaluationsByGeneration are equal\n",
    "print('hypervolumes:', EA.hyperVolumeByGeneration) #print array of hypervolumes\n",
    "print('#feval:', EA.numberOfEvaluationsByGeneration) #print array of #feval"
   ],
   "metadata": {
    "collapsed": false,
    "pycharm": {
     "name": "#%%\n"
    }
   }
  },
  {
   "cell_type": "code",
   "execution_count": null,
   "outputs": [],
   "source": [
    "domain = EA.numberOfEvaluationsByGeneration\n",
    "for i in range(len(hypervolume_results_per_setting)):\n",
    "\tres = hypervolume_results_per_setting[i]\n",
    "\tinterdecile_range_low = np.percentile(res, 10, axis=0)\n",
    "\tinterdecile_range_high = np.percentile(res, 90, axis=0)\n",
    "\n",
    "\taverage = np.average(res, axis=0)\n",
    "\n",
    "\tplt.plot(domain, average)\n",
    "\tplt.fill_between(domain,\n",
    "\t\tinterdecile_range_low,\n",
    "\t\tinterdecile_range_high,\n",
    "\t\t\t\t\talpha=0.3)\n",
    "plt.legend(L) # [(\"l = \" + x) for x in L]\n",
    "plt.show()"
   ],
   "metadata": {
    "collapsed": false,
    "pycharm": {
     "name": "#%%\n"
    }
   }
  }
 ],
 "metadata": {
  "kernelspec": {
   "display_name": "Python 3",
   "language": "python",
   "name": "python3"
  },
  "language_info": {
   "codemirror_mode": {
    "name": "ipython",
    "version": 2
   },
   "file_extension": ".py",
   "mimetype": "text/x-python",
   "name": "python",
   "nbconvert_exporter": "python",
   "pygments_lexer": "ipython2",
   "version": "2.7.6"
  }
 },
 "nbformat": 4,
 "nbformat_minor": 0
}