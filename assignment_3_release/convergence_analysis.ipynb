{
 "cells": [
  {
   "cell_type": "code",
   "execution_count": 18,
   "metadata": {
    "pycharm": {
     "name": "#%%\n"
    }
   },
   "outputs": [],
   "source": [
    "import subprocess\n",
    "import sys\n",
    "from pathlib import Path\n",
    "import matplotlib.pyplot as plt\n",
    "import numpy as np\n",
    "import os"
   ]
  },
  {
   "cell_type": "code",
   "execution_count": 19,
   "metadata": {
    "pycharm": {
     "name": "#%%\n"
    }
   },
   "outputs": [
    {
     "name": "stderr",
     "output_type": "stream",
     "text": [
      " 90%|█████████ | 9/10 [00:27<00:03,  3.09s/it]\n",
      " 90%|█████████ | 9/10 [00:29<00:03,  3.29s/it]\n",
      " 90%|█████████ | 9/10 [00:30<00:03,  3.39s/it]\n",
      " 90%|█████████ | 9/10 [00:28<00:03,  3.14s/it]\n",
      " 90%|█████████ | 9/10 [00:28<00:03,  3.22s/it]\n",
      " 90%|█████████ | 9/10 [00:21<00:02,  2.36s/it]\n",
      " 90%|█████████ | 9/10 [00:22<00:02,  2.46s/it]\n",
      " 90%|█████████ | 9/10 [00:22<00:02,  2.52s/it]\n",
      " 90%|█████████ | 9/10 [00:22<00:02,  2.45s/it]\n",
      " 90%|█████████ | 9/10 [00:21<00:02,  2.44s/it]\n",
      " 90%|█████████ | 9/10 [00:31<00:03,  3.51s/it]\n",
      " 90%|█████████ | 9/10 [00:32<00:03,  3.57s/it]\n",
      " 90%|█████████ | 9/10 [00:31<00:03,  3.47s/it]\n",
      " 90%|█████████ | 9/10 [00:31<00:03,  3.47s/it]\n",
      " 90%|█████████ | 9/10 [00:31<00:03,  3.50s/it]\n",
      " 90%|█████████ | 9/10 [00:30<00:03,  3.35s/it]\n",
      " 90%|█████████ | 9/10 [00:31<00:03,  3.46s/it]\n",
      " 90%|█████████ | 9/10 [00:31<00:03,  3.48s/it]\n",
      " 90%|█████████ | 9/10 [00:31<00:03,  3.50s/it]\n",
      " 90%|█████████ | 9/10 [00:32<00:03,  3.60s/it]"
     ]
    },
    {
     "name": "stdout",
     "output_type": "stream",
     "text": [
      "hypervolumes: [0.3845754453231088, 0.38493789440051107, 0.386881939452033, 0.391111510504034, 0.39493869318635694, 0.3951973001038423, 0.3953840162952313, 0.39561666267273743, 0.3963944803898075]\n",
      "#feval: [2000, 3000, 4000, 5000, 6000, 7000, 8000, 9000, 10000]\n"
     ]
    },
    {
     "name": "stderr",
     "output_type": "stream",
     "text": [
      "\n"
     ]
    }
   ],
   "source": [
    "from src.MOEDA import MOEDA\n",
    "from src import variation\n",
    "\n",
    "N = 5\n",
    "\n",
    "# 2a\n",
    "# L = [20]\n",
    "# populationSizes = [[100], [100]]\n",
    "\n",
    "# 2c\n",
    "elitsmSettings = [True, False]\n",
    "L = [10, 20] # number of (discrete) variables\n",
    "populationSizes = [\n",
    "\t[1000, 1000],\n",
    "\t[1000, 1000]\n",
    "]\n",
    "\n",
    "# Group\n",
    "# elitsmSettings = [True]\n",
    "# L = [15, 30, 60] # number of (discrete) variables\n",
    "# populationSizes = [\n",
    "# \t[609, 1062, 1862]\n",
    "# ]\n",
    "\n",
    "for i, l in enumerate(L):\n",
    "\thypervolume_results_per_setting = []\n",
    "\tfor j, elitsm in enumerate(elitsmSettings):\n",
    "\t\thypervolume_results = []\n",
    "\t\tfor n in range(N):\n",
    "\t\t\tpopulationSize = populationSizes[j][i]\n",
    "\t\t\tEA = MOEDA(populationSize = populationSize,\n",
    "\t\t\t\t\tnumberOfVariables = l,\n",
    "\t\t\t\t\tnumberOfEvaluations = 10**4,\n",
    "\t\t\t\t\tfitnessFunction = 'knapsack',\n",
    "\t\t\t\t\tselection=variation.selection, variation_model=variation.marginalProductModel, mutation=variation.mutation,\n",
    "\t\t\t\t\ttournamentSize = 2, mutationProb = 'auto',\n",
    "\t\t\t\t\trandomSeed = 30,\n",
    "\t\t\t\t\telitism=elitsm)\n",
    "\t\t\tEA.evolve() # Run algorithm\n",
    "\t\t\thypervolume_results.append([EA.numberOfEvaluationsByGeneration, EA.hyperVolumeByGeneration])\n",
    "\t\thypervolume_results_per_setting.append(hypervolume_results)\n",
    "\tnp.save(('data/hypervolume_results_L_' + str(l) + '.npy'), hypervolume_results_per_setting)\n",
    "\n",
    "#sizes of EA.hyperVolumeByGeneration and EA.numberOfEvaluationsByGeneration are equal\n",
    "print('hypervolumes:', EA.hyperVolumeByGeneration) #print array of hypervolumes\n",
    "print('#feval:', EA.numberOfEvaluationsByGeneration) #print array of #feval"
   ]
  },
  {
   "cell_type": "code",
   "execution_count": 20,
   "metadata": {
    "pycharm": {
     "name": "#%%\n"
    }
   },
   "outputs": [
    {
     "ename": "ValueError",
     "evalue": "x and y must have same first dimension, but have shapes (9,) and (2, 9)",
     "output_type": "error",
     "traceback": [
      "\u001B[0;31m---------------------------------------------------------------------------\u001B[0m",
      "\u001B[0;31mValueError\u001B[0m                                Traceback (most recent call last)",
      "\u001B[0;32m<ipython-input-20-d5e1fe4d0972>\u001B[0m in \u001B[0;36m<module>\u001B[0;34m\u001B[0m\n\u001B[1;32m      8\u001B[0m         \u001B[0maverage\u001B[0m \u001B[0;34m=\u001B[0m \u001B[0mnp\u001B[0m\u001B[0;34m.\u001B[0m\u001B[0maverage\u001B[0m\u001B[0;34m(\u001B[0m\u001B[0mres\u001B[0m\u001B[0;34m,\u001B[0m \u001B[0maxis\u001B[0m\u001B[0;34m=\u001B[0m\u001B[0;36m0\u001B[0m\u001B[0;34m)\u001B[0m\u001B[0;34m\u001B[0m\u001B[0;34m\u001B[0m\u001B[0m\n\u001B[1;32m      9\u001B[0m \u001B[0;34m\u001B[0m\u001B[0m\n\u001B[0;32m---> 10\u001B[0;31m         \u001B[0mplt\u001B[0m\u001B[0;34m.\u001B[0m\u001B[0mplot\u001B[0m\u001B[0;34m(\u001B[0m\u001B[0mdomain\u001B[0m\u001B[0;34m,\u001B[0m \u001B[0maverage\u001B[0m\u001B[0;34m)\u001B[0m\u001B[0;34m\u001B[0m\u001B[0;34m\u001B[0m\u001B[0m\n\u001B[0m\u001B[1;32m     11\u001B[0m \tplt.fill_between(domain,\n\u001B[1;32m     12\u001B[0m                 \u001B[0minterdecile_range_low\u001B[0m\u001B[0;34m,\u001B[0m\u001B[0;34m\u001B[0m\u001B[0;34m\u001B[0m\u001B[0m\n",
      "\u001B[0;32m/usr/local/lib/python3.6/dist-packages/matplotlib/pyplot.py\u001B[0m in \u001B[0;36mplot\u001B[0;34m(scalex, scaley, data, *args, **kwargs)\u001B[0m\n\u001B[1;32m   2793\u001B[0m     return gca().plot(\n\u001B[1;32m   2794\u001B[0m         *args, scalex=scalex, scaley=scaley, **({\"data\": data} if data\n\u001B[0;32m-> 2795\u001B[0;31m         is not None else {}), **kwargs)\n\u001B[0m\u001B[1;32m   2796\u001B[0m \u001B[0;34m\u001B[0m\u001B[0m\n\u001B[1;32m   2797\u001B[0m \u001B[0;34m\u001B[0m\u001B[0m\n",
      "\u001B[0;32m/usr/local/lib/python3.6/dist-packages/matplotlib/axes/_axes.py\u001B[0m in \u001B[0;36mplot\u001B[0;34m(self, scalex, scaley, data, *args, **kwargs)\u001B[0m\n\u001B[1;32m   1664\u001B[0m         \"\"\"\n\u001B[1;32m   1665\u001B[0m         \u001B[0mkwargs\u001B[0m \u001B[0;34m=\u001B[0m \u001B[0mcbook\u001B[0m\u001B[0;34m.\u001B[0m\u001B[0mnormalize_kwargs\u001B[0m\u001B[0;34m(\u001B[0m\u001B[0mkwargs\u001B[0m\u001B[0;34m,\u001B[0m \u001B[0mmlines\u001B[0m\u001B[0;34m.\u001B[0m\u001B[0mLine2D\u001B[0m\u001B[0;34m.\u001B[0m\u001B[0m_alias_map\u001B[0m\u001B[0;34m)\u001B[0m\u001B[0;34m\u001B[0m\u001B[0;34m\u001B[0m\u001B[0m\n\u001B[0;32m-> 1666\u001B[0;31m         \u001B[0mlines\u001B[0m \u001B[0;34m=\u001B[0m \u001B[0;34m[\u001B[0m\u001B[0;34m*\u001B[0m\u001B[0mself\u001B[0m\u001B[0;34m.\u001B[0m\u001B[0m_get_lines\u001B[0m\u001B[0;34m(\u001B[0m\u001B[0;34m*\u001B[0m\u001B[0margs\u001B[0m\u001B[0;34m,\u001B[0m \u001B[0mdata\u001B[0m\u001B[0;34m=\u001B[0m\u001B[0mdata\u001B[0m\u001B[0;34m,\u001B[0m \u001B[0;34m**\u001B[0m\u001B[0mkwargs\u001B[0m\u001B[0;34m)\u001B[0m\u001B[0;34m]\u001B[0m\u001B[0;34m\u001B[0m\u001B[0;34m\u001B[0m\u001B[0m\n\u001B[0m\u001B[1;32m   1667\u001B[0m         \u001B[0;32mfor\u001B[0m \u001B[0mline\u001B[0m \u001B[0;32min\u001B[0m \u001B[0mlines\u001B[0m\u001B[0;34m:\u001B[0m\u001B[0;34m\u001B[0m\u001B[0;34m\u001B[0m\u001B[0m\n\u001B[1;32m   1668\u001B[0m             \u001B[0mself\u001B[0m\u001B[0;34m.\u001B[0m\u001B[0madd_line\u001B[0m\u001B[0;34m(\u001B[0m\u001B[0mline\u001B[0m\u001B[0;34m)\u001B[0m\u001B[0;34m\u001B[0m\u001B[0;34m\u001B[0m\u001B[0m\n",
      "\u001B[0;32m/usr/local/lib/python3.6/dist-packages/matplotlib/axes/_base.py\u001B[0m in \u001B[0;36m__call__\u001B[0;34m(self, *args, **kwargs)\u001B[0m\n\u001B[1;32m    223\u001B[0m                 \u001B[0mthis\u001B[0m \u001B[0;34m+=\u001B[0m \u001B[0margs\u001B[0m\u001B[0;34m[\u001B[0m\u001B[0;36m0\u001B[0m\u001B[0;34m]\u001B[0m\u001B[0;34m,\u001B[0m\u001B[0;34m\u001B[0m\u001B[0;34m\u001B[0m\u001B[0m\n\u001B[1;32m    224\u001B[0m                 \u001B[0margs\u001B[0m \u001B[0;34m=\u001B[0m \u001B[0margs\u001B[0m\u001B[0;34m[\u001B[0m\u001B[0;36m1\u001B[0m\u001B[0;34m:\u001B[0m\u001B[0;34m]\u001B[0m\u001B[0;34m\u001B[0m\u001B[0;34m\u001B[0m\u001B[0m\n\u001B[0;32m--> 225\u001B[0;31m             \u001B[0;32myield\u001B[0m \u001B[0;32mfrom\u001B[0m \u001B[0mself\u001B[0m\u001B[0;34m.\u001B[0m\u001B[0m_plot_args\u001B[0m\u001B[0;34m(\u001B[0m\u001B[0mthis\u001B[0m\u001B[0;34m,\u001B[0m \u001B[0mkwargs\u001B[0m\u001B[0;34m)\u001B[0m\u001B[0;34m\u001B[0m\u001B[0;34m\u001B[0m\u001B[0m\n\u001B[0m\u001B[1;32m    226\u001B[0m \u001B[0;34m\u001B[0m\u001B[0m\n\u001B[1;32m    227\u001B[0m     \u001B[0;32mdef\u001B[0m \u001B[0mget_next_color\u001B[0m\u001B[0;34m(\u001B[0m\u001B[0mself\u001B[0m\u001B[0;34m)\u001B[0m\u001B[0;34m:\u001B[0m\u001B[0;34m\u001B[0m\u001B[0;34m\u001B[0m\u001B[0m\n",
      "\u001B[0;32m/usr/local/lib/python3.6/dist-packages/matplotlib/axes/_base.py\u001B[0m in \u001B[0;36m_plot_args\u001B[0;34m(self, tup, kwargs)\u001B[0m\n\u001B[1;32m    389\u001B[0m             \u001B[0mx\u001B[0m\u001B[0;34m,\u001B[0m \u001B[0my\u001B[0m \u001B[0;34m=\u001B[0m \u001B[0mindex_of\u001B[0m\u001B[0;34m(\u001B[0m\u001B[0mtup\u001B[0m\u001B[0;34m[\u001B[0m\u001B[0;34m-\u001B[0m\u001B[0;36m1\u001B[0m\u001B[0;34m]\u001B[0m\u001B[0;34m)\u001B[0m\u001B[0;34m\u001B[0m\u001B[0;34m\u001B[0m\u001B[0m\n\u001B[1;32m    390\u001B[0m \u001B[0;34m\u001B[0m\u001B[0m\n\u001B[0;32m--> 391\u001B[0;31m         \u001B[0mx\u001B[0m\u001B[0;34m,\u001B[0m \u001B[0my\u001B[0m \u001B[0;34m=\u001B[0m \u001B[0mself\u001B[0m\u001B[0;34m.\u001B[0m\u001B[0m_xy_from_xy\u001B[0m\u001B[0;34m(\u001B[0m\u001B[0mx\u001B[0m\u001B[0;34m,\u001B[0m \u001B[0my\u001B[0m\u001B[0;34m)\u001B[0m\u001B[0;34m\u001B[0m\u001B[0;34m\u001B[0m\u001B[0m\n\u001B[0m\u001B[1;32m    392\u001B[0m \u001B[0;34m\u001B[0m\u001B[0m\n\u001B[1;32m    393\u001B[0m         \u001B[0;32mif\u001B[0m \u001B[0mself\u001B[0m\u001B[0;34m.\u001B[0m\u001B[0mcommand\u001B[0m \u001B[0;34m==\u001B[0m \u001B[0;34m'plot'\u001B[0m\u001B[0;34m:\u001B[0m\u001B[0;34m\u001B[0m\u001B[0;34m\u001B[0m\u001B[0m\n",
      "\u001B[0;32m/usr/local/lib/python3.6/dist-packages/matplotlib/axes/_base.py\u001B[0m in \u001B[0;36m_xy_from_xy\u001B[0;34m(self, x, y)\u001B[0m\n\u001B[1;32m    268\u001B[0m         \u001B[0;32mif\u001B[0m \u001B[0mx\u001B[0m\u001B[0;34m.\u001B[0m\u001B[0mshape\u001B[0m\u001B[0;34m[\u001B[0m\u001B[0;36m0\u001B[0m\u001B[0;34m]\u001B[0m \u001B[0;34m!=\u001B[0m \u001B[0my\u001B[0m\u001B[0;34m.\u001B[0m\u001B[0mshape\u001B[0m\u001B[0;34m[\u001B[0m\u001B[0;36m0\u001B[0m\u001B[0;34m]\u001B[0m\u001B[0;34m:\u001B[0m\u001B[0;34m\u001B[0m\u001B[0;34m\u001B[0m\u001B[0m\n\u001B[1;32m    269\u001B[0m             raise ValueError(\"x and y must have same first dimension, but \"\n\u001B[0;32m--> 270\u001B[0;31m                              \"have shapes {} and {}\".format(x.shape, y.shape))\n\u001B[0m\u001B[1;32m    271\u001B[0m         \u001B[0;32mif\u001B[0m \u001B[0mx\u001B[0m\u001B[0;34m.\u001B[0m\u001B[0mndim\u001B[0m \u001B[0;34m>\u001B[0m \u001B[0;36m2\u001B[0m \u001B[0;32mor\u001B[0m \u001B[0my\u001B[0m\u001B[0;34m.\u001B[0m\u001B[0mndim\u001B[0m \u001B[0;34m>\u001B[0m \u001B[0;36m2\u001B[0m\u001B[0;34m:\u001B[0m\u001B[0;34m\u001B[0m\u001B[0;34m\u001B[0m\u001B[0m\n\u001B[1;32m    272\u001B[0m             raise ValueError(\"x and y can be no greater than 2-D, but have \"\n",
      "\u001B[0;31mValueError\u001B[0m: x and y must have same first dimension, but have shapes (9,) and (2, 9)"
     ]
    },
    {
     "data": {
      "text/plain": "<Figure size 432x288 with 1 Axes>",
      "image/png": "[encoded data removed]"
     },
     "metadata": {
      "needs_background": "light"
     },
     "output_type": "display_data"
    }
   ],
   "source": [
    "domain = EA.numberOfEvaluationsByGeneration\n",
    "for i in range(len(hypervolume_results_per_setting)):\n",
    "\tres = hypervolume_results_per_setting[i]\n",
    "\tinterdecile_range_low = np.percentile(res, 10, axis=0)\n",
    "\tinterdecile_range_high = np.percentile(res, 90, axis=0)\n",
    "\n",
    "\taverage = np.average(res, axis=0)\n",
    "\n",
    "\tplt.plot(domain, average)\n",
    "\tplt.fill_between(domain,\n",
    "\t\tinterdecile_range_low,\n",
    "\t\tinterdecile_range_high,\n",
    "\t\t\t\t\talpha=0.3)\n",
    "plt.legend(L) # [(\"l = \" + x) for x in L]\n",
    "plt.show()"
   ]
  }
 ],
 "metadata": {
  "kernelspec": {
   "display_name": "Python 3",
   "language": "python",
   "name": "python3"
  },
  "language_info": {
   "codemirror_mode": {
    "name": "ipython",
    "version": 3
   },
   "file_extension": ".py",
   "mimetype": "text/x-python",
   "name": "python",
   "nbconvert_exporter": "python",
   "pygments_lexer": "ipython3",
   "version": "3.6.9"
  }
 },
 "nbformat": 4,
 "nbformat_minor": 1
}